{
 "cells": [
  {
   "cell_type": "markdown",
   "metadata": {},
   "source": [
    "## install software and data"
   ]
  },
  {
   "cell_type": "code",
   "execution_count": null,
   "metadata": {},
   "outputs": [],
   "source": [
    "!pip -q install neurom --upgrade\n",
    "!pip uninstall -y nsg-bluepyopt-job\n",
    "!pip -q install https://github.com/jdcourcol/InSilicoNeuroscienceCourse/raw/master/nsg-portal-course/utils/nsg-bluepyopt-job-0.0.1.dev0.tar.gz\n",
    "!mkdir -p ./tmp/\n",
    "!curl https://github.com/jdcourcol/InSilicoNeuroscienceCourse/raw/master/nsg-portal-course/model/initial_data.tar.gz| tar x -C ./tmp\n",
    "WORKING_DIR = './tmp/hippo-ca1'\n",
    "    "
   ]
  },
  {
   "cell_type": "code",
   "execution_count": null,
   "metadata": {},
   "outputs": [],
   "source": [
    "%load_ext autoreload\n",
    "%autoreload\n",
    "import getpass\n",
    "import os.path\n",
    "from __future__ import print_function\n",
    "import pprint\n",
    "pp = pprint.PrettyPrinter(indent=2)"
   ]
  },
  {
   "cell_type": "markdown",
   "metadata": {},
   "source": [
    "Enable the code below to enable debug level logging"
   ]
  },
  {
   "cell_type": "code",
   "execution_count": null,
   "metadata": {},
   "outputs": [],
   "source": [
    "# import logging                                                                      \n",
    "# logging.basicConfig()                                                               \n",
    "# logger = logging.getLogger()                                                        \n",
    "# logger.setLevel(logging.DEBUG)   "
   ]
  },
  {
   "cell_type": "markdown",
   "metadata": {},
   "source": [
    "## Model description"
   ]
  },
  {
   "cell_type": "markdown",
   "metadata": {},
   "source": [
    "### Morphology"
   ]
  },
  {
   "cell_type": "markdown",
   "metadata": {},
   "source": [
    "We're using a complex reconstructed morphology of an L5PC cell. Let's visualise this with the BlueBrain NeuroM software:"
   ]
  },
  {
   "cell_type": "code",
   "execution_count": null,
   "metadata": {},
   "outputs": [],
   "source": [
    "import neurom.viewer\n",
    "neurom.viewer.draw(neurom.load_neuron(os.path.join(WORKING_DIR, 'morphology', '010710HP2.asc')));"
   ]
  },
  {
   "cell_type": "markdown",
   "metadata": {},
   "source": [
    "### Parameters"
   ]
  },
  {
   "cell_type": "code",
   "execution_count": null,
   "metadata": {},
   "outputs": [],
   "source": [
    "import json\n",
    "param_configs = json.load(open(os.path.join(WORKING_DIR,'config.orig/parameters.json')))\n",
    "print(param_configs)"
   ]
  },
  {
   "cell_type": "markdown",
   "metadata": {},
   "source": [
    "## Protocols"
   ]
  },
  {
   "cell_type": "markdown",
   "metadata": {},
   "source": [
    "Now that we have a cell model, we can apply protocols to it. The protocols are also stored in a json file."
   ]
  },
  {
   "cell_type": "code",
   "execution_count": null,
   "metadata": {},
   "outputs": [],
   "source": [
    "proto_configs = json.load(open(os.path.join(WORKING_DIR, 'config.orig/protocols.json')))\n",
    "print(proto_configs)"
   ]
  },
  {
   "cell_type": "markdown",
   "metadata": {},
   "source": [
    "## eFeatures"
   ]
  },
  {
   "cell_type": "markdown",
   "metadata": {},
   "source": [
    "For every protocol we need to define which eFeatures will be used as objectives of the optimisation algorithm."
   ]
  },
  {
   "cell_type": "code",
   "execution_count": null,
   "metadata": {},
   "outputs": [],
   "source": [
    "feature_configs = json.load(open(os.path.join(WORKING_DIR,'config.orig/features.json')))\n",
    "pp.pprint(feature_configs)"
   ]
  },
  {
   "cell_type": "markdown",
   "metadata": {},
   "source": [
    "modify configuration here..."
   ]
  },
  {
   "cell_type": "markdown",
   "metadata": {},
   "source": [
    "## save configuration"
   ]
  },
  {
   "cell_type": "code",
   "execution_count": null,
   "metadata": {},
   "outputs": [],
   "source": [
    "for variable, filename in zip([param_configs, proto_configs, feature_configs],['parameters.json', 'protocols.json', 'features.json']):\n",
    "    with open(os.path.join(WORKING_DIR, 'config', filename), 'w') as f:\n",
    "        json.dump(variable, f)\n",
    "!tar -cf './bluepyopt-config.tar.gz' './tmp/hippo-ca1'"
   ]
  },
  {
   "cell_type": "markdown",
   "metadata": {},
   "source": [
    "## launch optimization on the nsg-portal compute center"
   ]
  },
  {
   "cell_type": "code",
   "execution_count": null,
   "metadata": {},
   "outputs": [],
   "source": [
    "user = #'put your nsg_portal account id here'"
   ]
  },
  {
   "cell_type": "code",
   "execution_count": null,
   "metadata": {},
   "outputs": [],
   "source": [
    "password = getpass.getpass('provide your password:')"
   ]
  },
  {
   "cell_type": "code",
   "execution_count": null,
   "metadata": {},
   "outputs": [],
   "source": [
    "import nsg_bluepyopt_job.job as job"
   ]
  },
  {
   "cell_type": "code",
   "execution_count": null,
   "metadata": {},
   "outputs": [],
   "source": [
    "job_url = job.launch_opt(user, password, './bluepyopt-config.tar.gz')"
   ]
  },
  {
   "cell_type": "code",
   "execution_count": null,
   "metadata": {},
   "outputs": [],
   "source": [
    "output_url = job.wait_completion(job_url, user, password, 30)"
   ]
  },
  {
   "cell_type": "code",
   "execution_count": null,
   "metadata": {},
   "outputs": [],
   "source": [
    "checkpoint_pkl = job.download_output(output_url, './tmp/')"
   ]
  },
  {
   "cell_type": "code",
   "execution_count": null,
   "metadata": {},
   "outputs": [],
   "source": []
  }
 ],
 "metadata": {
  "kernelspec": {
   "display_name": "Python 2",
   "language": "python",
   "name": "python2"
  },
  "language_info": {
   "codemirror_mode": {
    "name": "ipython",
    "version": 2
   },
   "file_extension": ".py",
   "mimetype": "text/x-python",
   "name": "python",
   "nbconvert_exporter": "python",
   "pygments_lexer": "ipython2",
   "version": "2.7.12+"
  }
 },
 "nbformat": 4,
 "nbformat_minor": 1
}
